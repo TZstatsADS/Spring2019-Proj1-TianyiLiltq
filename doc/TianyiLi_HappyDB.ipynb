{
 "cells": [
  {
   "cell_type": "code",
   "execution_count": 1,
   "metadata": {},
   "outputs": [],
   "source": [
    "import pandas as pd\n",
    "import numpy as np"
   ]
  },
  {
   "cell_type": "code",
   "execution_count": 2,
   "metadata": {},
   "outputs": [],
   "source": [
    "Cleaned_hm = pd.read_csv(\"/Users/jim/Desktop/HappyDB-master/happydb/data/cleaned_hm.csv\",index_col = 'wid')"
   ]
  },
  {
   "cell_type": "code",
   "execution_count": 3,
   "metadata": {},
   "outputs": [],
   "source": [
    "Workers = pd.read_csv(\"/Users/jim/Desktop/HappyDB-master/happydb/data/demographic.csv\",index_col = 'wid')"
   ]
  },
  {
   "cell_type": "code",
   "execution_count": 4,
   "metadata": {},
   "outputs": [],
   "source": [
    "orginal = pd.read_csv(\"/Users/jim/Desktop/HappyDB-master/happydb/data/original_hm.csv\")"
   ]
  },
  {
   "cell_type": "code",
   "execution_count": 6,
   "metadata": {},
   "outputs": [],
   "source": [
    "cleaned_hm_version2 = pd.read_csv(\"/Users/jim/Desktop/HappyDB-master/processed_moments.csv\",index_col = 'wid')"
   ]
  },
  {
   "cell_type": "code",
   "execution_count": 7,
   "metadata": {},
   "outputs": [],
   "source": [
    "senselabel = pd.read_csv(\"/Users/jim/Desktop/HappyDB-master/happydb/data/senselabel.csv\")"
   ]
  },
  {
   "cell_type": "code",
   "execution_count": 8,
   "metadata": {},
   "outputs": [],
   "source": [
    "vad = pd.read_csv(\"/Users/jim/Desktop/HappyDB-master/happydb/data/vad.csv\")"
   ]
  },
  {
   "cell_type": "code",
   "execution_count": 9,
   "metadata": {},
   "outputs": [
    {
     "data": {
      "text/html": [
       "<div>\n",
       "<style scoped>\n",
       "    .dataframe tbody tr th:only-of-type {\n",
       "        vertical-align: middle;\n",
       "    }\n",
       "\n",
       "    .dataframe tbody tr th {\n",
       "        vertical-align: top;\n",
       "    }\n",
       "\n",
       "    .dataframe thead th {\n",
       "        text-align: right;\n",
       "    }\n",
       "</style>\n",
       "<table border=\"1\" class=\"dataframe\">\n",
       "  <thead>\n",
       "    <tr style=\"text-align: right;\">\n",
       "      <th></th>\n",
       "      <th>hmid</th>\n",
       "      <th>reflection_period</th>\n",
       "      <th>original_hm</th>\n",
       "      <th>cleaned_hm</th>\n",
       "      <th>modified</th>\n",
       "      <th>num_sentence</th>\n",
       "      <th>ground_truth_category</th>\n",
       "      <th>predicted_category</th>\n",
       "      <th>id</th>\n",
       "      <th>text</th>\n",
       "    </tr>\n",
       "    <tr>\n",
       "      <th>wid</th>\n",
       "      <th></th>\n",
       "      <th></th>\n",
       "      <th></th>\n",
       "      <th></th>\n",
       "      <th></th>\n",
       "      <th></th>\n",
       "      <th></th>\n",
       "      <th></th>\n",
       "      <th></th>\n",
       "      <th></th>\n",
       "    </tr>\n",
       "  </thead>\n",
       "  <tbody>\n",
       "    <tr>\n",
       "      <th>2053</th>\n",
       "      <td>27673</td>\n",
       "      <td>24h</td>\n",
       "      <td>I went on a successful date with someone I fel...</td>\n",
       "      <td>I went on a successful date with someone I fel...</td>\n",
       "      <td>True</td>\n",
       "      <td>1</td>\n",
       "      <td>NaN</td>\n",
       "      <td>affection</td>\n",
       "      <td>1</td>\n",
       "      <td>successfully date sympathy connected</td>\n",
       "    </tr>\n",
       "    <tr>\n",
       "      <th>2</th>\n",
       "      <td>27674</td>\n",
       "      <td>24h</td>\n",
       "      <td>I was happy when my son got 90% marks in his e...</td>\n",
       "      <td>I was happy when my son got 90% marks in his e...</td>\n",
       "      <td>True</td>\n",
       "      <td>1</td>\n",
       "      <td>NaN</td>\n",
       "      <td>affection</td>\n",
       "      <td>2</td>\n",
       "      <td>son marks examination</td>\n",
       "    </tr>\n",
       "    <tr>\n",
       "      <th>1936</th>\n",
       "      <td>27675</td>\n",
       "      <td>24h</td>\n",
       "      <td>I went to the gym this morning and did yoga.</td>\n",
       "      <td>I went to the gym this morning and did yoga.</td>\n",
       "      <td>True</td>\n",
       "      <td>1</td>\n",
       "      <td>NaN</td>\n",
       "      <td>exercise</td>\n",
       "      <td>3</td>\n",
       "      <td>gym morning yoga</td>\n",
       "    </tr>\n",
       "    <tr>\n",
       "      <th>206</th>\n",
       "      <td>27676</td>\n",
       "      <td>24h</td>\n",
       "      <td>We had a serious talk with some friends of our...</td>\n",
       "      <td>We had a serious talk with some friends of our...</td>\n",
       "      <td>True</td>\n",
       "      <td>2</td>\n",
       "      <td>bonding</td>\n",
       "      <td>bonding</td>\n",
       "      <td>4</td>\n",
       "      <td>talked friend flaky understood evening hang</td>\n",
       "    </tr>\n",
       "    <tr>\n",
       "      <th>6227</th>\n",
       "      <td>27677</td>\n",
       "      <td>24h</td>\n",
       "      <td>I went with grandchildren to butterfly display...</td>\n",
       "      <td>I went with grandchildren to butterfly display...</td>\n",
       "      <td>True</td>\n",
       "      <td>1</td>\n",
       "      <td>NaN</td>\n",
       "      <td>affection</td>\n",
       "      <td>5</td>\n",
       "      <td>grandchildren butterfly display crohn conserva...</td>\n",
       "    </tr>\n",
       "  </tbody>\n",
       "</table>\n",
       "</div>"
      ],
      "text/plain": [
       "       hmid reflection_period  \\\n",
       "wid                             \n",
       "2053  27673               24h   \n",
       "2     27674               24h   \n",
       "1936  27675               24h   \n",
       "206   27676               24h   \n",
       "6227  27677               24h   \n",
       "\n",
       "                                            original_hm  \\\n",
       "wid                                                       \n",
       "2053  I went on a successful date with someone I fel...   \n",
       "2     I was happy when my son got 90% marks in his e...   \n",
       "1936       I went to the gym this morning and did yoga.   \n",
       "206   We had a serious talk with some friends of our...   \n",
       "6227  I went with grandchildren to butterfly display...   \n",
       "\n",
       "                                             cleaned_hm  modified  \\\n",
       "wid                                                                 \n",
       "2053  I went on a successful date with someone I fel...      True   \n",
       "2     I was happy when my son got 90% marks in his e...      True   \n",
       "1936       I went to the gym this morning and did yoga.      True   \n",
       "206   We had a serious talk with some friends of our...      True   \n",
       "6227  I went with grandchildren to butterfly display...      True   \n",
       "\n",
       "      num_sentence ground_truth_category predicted_category  id  \\\n",
       "wid                                                               \n",
       "2053             1                   NaN          affection   1   \n",
       "2                1                   NaN          affection   2   \n",
       "1936             1                   NaN           exercise   3   \n",
       "206              2               bonding            bonding   4   \n",
       "6227             1                   NaN          affection   5   \n",
       "\n",
       "                                                   text  \n",
       "wid                                                      \n",
       "2053               successfully date sympathy connected  \n",
       "2                                 son marks examination  \n",
       "1936                                   gym morning yoga  \n",
       "206         talked friend flaky understood evening hang  \n",
       "6227  grandchildren butterfly display crohn conserva...  "
      ]
     },
     "execution_count": 9,
     "metadata": {},
     "output_type": "execute_result"
    }
   ],
   "source": [
    "cleaned_hm_version2.head()"
   ]
  },
  {
   "cell_type": "code",
   "execution_count": 10,
   "metadata": {},
   "outputs": [],
   "source": [
    "result2 = pd.concat([cleaned_hm_version2, Workers], axis=1, join='inner')"
   ]
  },
  {
   "cell_type": "code",
   "execution_count": 11,
   "metadata": {},
   "outputs": [],
   "source": [
    "result1 = pd.concat([Cleaned_hm, Workers], axis=1, join='inner')"
   ]
  },
  {
   "cell_type": "code",
   "execution_count": 12,
   "metadata": {},
   "outputs": [
    {
     "data": {
      "text/html": [
       "<div>\n",
       "<style scoped>\n",
       "    .dataframe tbody tr th:only-of-type {\n",
       "        vertical-align: middle;\n",
       "    }\n",
       "\n",
       "    .dataframe tbody tr th {\n",
       "        vertical-align: top;\n",
       "    }\n",
       "\n",
       "    .dataframe thead th {\n",
       "        text-align: right;\n",
       "    }\n",
       "</style>\n",
       "<table border=\"1\" class=\"dataframe\">\n",
       "  <thead>\n",
       "    <tr style=\"text-align: right;\">\n",
       "      <th></th>\n",
       "      <th>hmid</th>\n",
       "      <th>reflection_period</th>\n",
       "      <th>original_hm</th>\n",
       "      <th>cleaned_hm</th>\n",
       "      <th>modified</th>\n",
       "      <th>num_sentence</th>\n",
       "      <th>ground_truth_category</th>\n",
       "      <th>predicted_category</th>\n",
       "      <th>id</th>\n",
       "      <th>text</th>\n",
       "      <th>age</th>\n",
       "      <th>country</th>\n",
       "      <th>gender</th>\n",
       "      <th>marital</th>\n",
       "      <th>parenthood</th>\n",
       "    </tr>\n",
       "    <tr>\n",
       "      <th>wid</th>\n",
       "      <th></th>\n",
       "      <th></th>\n",
       "      <th></th>\n",
       "      <th></th>\n",
       "      <th></th>\n",
       "      <th></th>\n",
       "      <th></th>\n",
       "      <th></th>\n",
       "      <th></th>\n",
       "      <th></th>\n",
       "      <th></th>\n",
       "      <th></th>\n",
       "      <th></th>\n",
       "      <th></th>\n",
       "      <th></th>\n",
       "    </tr>\n",
       "  </thead>\n",
       "  <tbody>\n",
       "    <tr>\n",
       "      <th>2053</th>\n",
       "      <td>27673</td>\n",
       "      <td>24h</td>\n",
       "      <td>I went on a successful date with someone I fel...</td>\n",
       "      <td>I went on a successful date with someone I fel...</td>\n",
       "      <td>True</td>\n",
       "      <td>1</td>\n",
       "      <td>NaN</td>\n",
       "      <td>affection</td>\n",
       "      <td>1</td>\n",
       "      <td>successfully date sympathy connected</td>\n",
       "      <td>35</td>\n",
       "      <td>USA</td>\n",
       "      <td>m</td>\n",
       "      <td>single</td>\n",
       "      <td>n</td>\n",
       "    </tr>\n",
       "    <tr>\n",
       "      <th>2</th>\n",
       "      <td>27674</td>\n",
       "      <td>24h</td>\n",
       "      <td>I was happy when my son got 90% marks in his e...</td>\n",
       "      <td>I was happy when my son got 90% marks in his e...</td>\n",
       "      <td>True</td>\n",
       "      <td>1</td>\n",
       "      <td>NaN</td>\n",
       "      <td>affection</td>\n",
       "      <td>2</td>\n",
       "      <td>son marks examination</td>\n",
       "      <td>29.0</td>\n",
       "      <td>IND</td>\n",
       "      <td>m</td>\n",
       "      <td>married</td>\n",
       "      <td>y</td>\n",
       "    </tr>\n",
       "    <tr>\n",
       "      <th>1936</th>\n",
       "      <td>27675</td>\n",
       "      <td>24h</td>\n",
       "      <td>I went to the gym this morning and did yoga.</td>\n",
       "      <td>I went to the gym this morning and did yoga.</td>\n",
       "      <td>True</td>\n",
       "      <td>1</td>\n",
       "      <td>NaN</td>\n",
       "      <td>exercise</td>\n",
       "      <td>3</td>\n",
       "      <td>gym morning yoga</td>\n",
       "      <td>30</td>\n",
       "      <td>USA</td>\n",
       "      <td>f</td>\n",
       "      <td>married</td>\n",
       "      <td>y</td>\n",
       "    </tr>\n",
       "    <tr>\n",
       "      <th>206</th>\n",
       "      <td>27676</td>\n",
       "      <td>24h</td>\n",
       "      <td>We had a serious talk with some friends of our...</td>\n",
       "      <td>We had a serious talk with some friends of our...</td>\n",
       "      <td>True</td>\n",
       "      <td>2</td>\n",
       "      <td>bonding</td>\n",
       "      <td>bonding</td>\n",
       "      <td>4</td>\n",
       "      <td>talked friend flaky understood evening hang</td>\n",
       "      <td>28</td>\n",
       "      <td>DNK</td>\n",
       "      <td>f</td>\n",
       "      <td>married</td>\n",
       "      <td>n</td>\n",
       "    </tr>\n",
       "    <tr>\n",
       "      <th>6227</th>\n",
       "      <td>27677</td>\n",
       "      <td>24h</td>\n",
       "      <td>I went with grandchildren to butterfly display...</td>\n",
       "      <td>I went with grandchildren to butterfly display...</td>\n",
       "      <td>True</td>\n",
       "      <td>1</td>\n",
       "      <td>NaN</td>\n",
       "      <td>affection</td>\n",
       "      <td>5</td>\n",
       "      <td>grandchildren butterfly display crohn conserva...</td>\n",
       "      <td>55</td>\n",
       "      <td>USA</td>\n",
       "      <td>f</td>\n",
       "      <td>divorced</td>\n",
       "      <td>y</td>\n",
       "    </tr>\n",
       "  </tbody>\n",
       "</table>\n",
       "</div>"
      ],
      "text/plain": [
       "       hmid reflection_period  \\\n",
       "wid                             \n",
       "2053  27673               24h   \n",
       "2     27674               24h   \n",
       "1936  27675               24h   \n",
       "206   27676               24h   \n",
       "6227  27677               24h   \n",
       "\n",
       "                                            original_hm  \\\n",
       "wid                                                       \n",
       "2053  I went on a successful date with someone I fel...   \n",
       "2     I was happy when my son got 90% marks in his e...   \n",
       "1936       I went to the gym this morning and did yoga.   \n",
       "206   We had a serious talk with some friends of our...   \n",
       "6227  I went with grandchildren to butterfly display...   \n",
       "\n",
       "                                             cleaned_hm  modified  \\\n",
       "wid                                                                 \n",
       "2053  I went on a successful date with someone I fel...      True   \n",
       "2     I was happy when my son got 90% marks in his e...      True   \n",
       "1936       I went to the gym this morning and did yoga.      True   \n",
       "206   We had a serious talk with some friends of our...      True   \n",
       "6227  I went with grandchildren to butterfly display...      True   \n",
       "\n",
       "      num_sentence ground_truth_category predicted_category  id  \\\n",
       "wid                                                               \n",
       "2053             1                   NaN          affection   1   \n",
       "2                1                   NaN          affection   2   \n",
       "1936             1                   NaN           exercise   3   \n",
       "206              2               bonding            bonding   4   \n",
       "6227             1                   NaN          affection   5   \n",
       "\n",
       "                                                   text   age country gender  \\\n",
       "wid                                                                            \n",
       "2053               successfully date sympathy connected    35     USA      m   \n",
       "2                                 son marks examination  29.0     IND      m   \n",
       "1936                                   gym morning yoga    30     USA      f   \n",
       "206         talked friend flaky understood evening hang    28     DNK      f   \n",
       "6227  grandchildren butterfly display crohn conserva...    55     USA      f   \n",
       "\n",
       "       marital parenthood  \n",
       "wid                        \n",
       "2053    single          n  \n",
       "2      married          y  \n",
       "1936   married          y  \n",
       "206    married          n  \n",
       "6227  divorced          y  "
      ]
     },
     "execution_count": 12,
     "metadata": {},
     "output_type": "execute_result"
    }
   ],
   "source": [
    "result2.head()"
   ]
  },
  {
   "cell_type": "code",
   "execution_count": 15,
   "metadata": {},
   "outputs": [
    {
     "data": {
      "image/png": "[encoded data removed]",
      "text/plain": [
       "<Figure size 432x288 with 1 Axes>"
      ]
     },
     "metadata": {},
     "output_type": "display_data"
    }
   ],
   "source": [
    "#WordCloud\n",
    "sentence_list = []\n",
    "for i in Cleaned_hm['cleaned_hm']:\n",
    "    sentence_list.append(i)\n",
    "text=''\n",
    "for x in sentence_list:\n",
    "    text+=x\n",
    "\n",
    "from nltk.corpus import stopwords\n",
    "from wordcloud import WordCloud, STOPWORDS\n",
    "import matplotlib.pyplot as plt\n",
    "%matplotlib inline\n",
    "wordcloud = WordCloud(stopwords=STOPWORDS,background_color='white',width=3000,height=3000).generate(text)#<-must be the string\n",
    "plt.imshow(wordcloud)\n",
    "plt.axis('off')\n",
    "plt.show()\n",
    "   "
   ]
  },
  {
   "cell_type": "code",
   "execution_count": null,
   "metadata": {},
   "outputs": [],
   "source": []
  },
  {
   "cell_type": "code",
   "execution_count": 221,
   "metadata": {},
   "outputs": [],
   "source": []
  },
  {
   "cell_type": "code",
   "execution_count": null,
   "metadata": {},
   "outputs": [],
   "source": []
  },
  {
   "cell_type": "code",
   "execution_count": 243,
   "metadata": {},
   "outputs": [],
   "source": [
    "#len(k.split())#292599\n",
    "k = ''\n",
    "for i in result2[result2['gender']=='m']['text']:\n",
    "    k+=str(i)\n",
    "male_words_repetition = k.split()\n",
    "male_words = set(k.split()) #57317\n",
    "dict_male = {}\n",
    "for i in male_words:\n",
    "    dict_male[i] =0\n",
    "for k in male_words_repetition:\n",
    "    dict_male[k]= dict_male[k]+1\n",
    "occurences_of_each_word_male = {k: v for k, v in sorted(dict_male.items(), key=lambda x: x[1],reverse = True)}"
   ]
  },
  {
   "cell_type": "code",
   "execution_count": 244,
   "metadata": {},
   "outputs": [],
   "source": [
    "k = ''\n",
    "for i in result2[result2['gender']=='f']['text']:\n",
    "    k+=str(i)\n",
    "female_words_repetition = k.split()\n",
    "female_words = set(k.split()) \n",
    "dict_female = {}\n",
    "for i in female_words:\n",
    "    dict_female[i] =0\n",
    "for k in female_words_repetition:\n",
    "    dict_female[k]= dict_female[k]+1\n",
    "occurences_of_each_word_female = {k: v for k, v in sorted(dict_female.items(), key=lambda x: x[1],reverse = True)}"
   ]
  },
  {
   "cell_type": "code",
   "execution_count": 258,
   "metadata": {
    "scrolled": false
   },
   "outputs": [
    {
     "name": "stdout",
     "output_type": "stream",
     "text": [
      "FEMALE TOP 10:\n",
      "\n",
      "['time', 'day', 'friend', 'family', 'home', 'feel', 'love', 'finally', 'enjoyed', 'birthday']\n",
      "\n",
      "\n",
      "\n",
      "\n",
      "MALE TOP 10:\n",
      "\n",
      "['friend', 'time', 'day', 'game', 'home', 'family', 'played', 'feel', 'enjoyed', 'finally']\n"
     ]
    }
   ],
   "source": [
    "print('FEMALE TOP 10:',list(occurences_of_each_word_female.keys())[:10],'\\n','MALE TOP 10:',list(occurences_of_each_word_male.keys())[:10],sep = '\\n\\n')"
   ]
  },
  {
   "cell_type": "code",
   "execution_count": 270,
   "metadata": {},
   "outputs": [
    {
     "name": "stdout",
     "output_type": "stream",
     "text": [
      "FEMALE TOP 10:\n",
      "\n",
      "[2954, 2751, 2391, 1337, 1318, 1299, 1032, 1015, 981, 960]\n",
      "\n",
      "\n",
      "\n",
      "\n",
      "MALE TOP 10:\n",
      "\n",
      "[3662, 3340, 3178, 1733, 1524, 1507, 1459, 1433, 1331, 1310]\n"
     ]
    }
   ],
   "source": [
    "print('FEMALE TOP 10:',list(occurences_of_each_word_female.values())[:10],'\\n','MALE TOP 10:',list(occurences_of_each_word_male.values())[:10],sep = '\\n\\n')"
   ]
  },
  {
   "cell_type": "code",
   "execution_count": 273,
   "metadata": {},
   "outputs": [],
   "source": [
    "a = ['time', 'day', 'friend', 'family', 'home', 'feel', 'love', 'final', 'enjoy', 'birthday']\n",
    "b = [2954, 2751, 2391, 1337, 1318, 1299, 1032, 1015, 981, 960]  \n",
    "c = ['friend', 'time', 'day', 'game', 'home', 'family', 'played', 'feel', 'enjoyed', 'finally']\n",
    "d = [3662, 3340, 3178, 1733, 1524, 1507, 1459, 1433, 1331, 1310]"
   ]
  },
  {
   "cell_type": "code",
   "execution_count": null,
   "metadata": {},
   "outputs": [],
   "source": []
  },
  {
   "cell_type": "code",
   "execution_count": null,
   "metadata": {},
   "outputs": [],
   "source": []
  },
  {
   "cell_type": "code",
   "execution_count": 281,
   "metadata": {},
   "outputs": [
    {
     "data": {
      "image/png": "[encoded data removed]",
      "text/plain": [
       "<Figure size 640x480 with 1 Axes>"
      ]
     },
     "metadata": {},
     "output_type": "display_data"
    }
   ],
   "source": [
    "import matplotlib.pyplot as plt; plt.rcdefaults()\n",
    "import numpy as np\n",
    "import matplotlib.pyplot as plt\n",
    " \n",
    "objects = a\n",
    "y_pos = np.arange(len(a))\n",
    "performance = b\n",
    " \n",
    "plt.barh(y_pos, performance, align='center', alpha=0.5)\n",
    "plt.yticks(y_pos, objects)\n",
    "plt.xlabel('Occurences')\n",
    "plt.title('FEMALE_WORDS_Occurence')\n",
    " \n",
    "plt.show()"
   ]
  },
  {
   "cell_type": "code",
   "execution_count": 282,
   "metadata": {},
   "outputs": [
    {
     "data": {
      "image/png": "[encoded data removed]",
      "text/plain": [
       "<Figure size 640x480 with 1 Axes>"
      ]
     },
     "metadata": {},
     "output_type": "display_data"
    }
   ],
   "source": [
    "import matplotlib.pyplot as plt; plt.rcdefaults()\n",
    "import numpy as np\n",
    "import matplotlib.pyplot as plt\n",
    " \n",
    "objects = c\n",
    "y_pos = np.arange(len(c))\n",
    "performance = d\n",
    " \n",
    "plt.barh(y_pos, performance, align='center', alpha=0.5)\n",
    "plt.yticks(y_pos, objects)\n",
    "plt.xlabel('Occurences')\n",
    "plt.title('MALE_WORDS_Occurence')\n",
    " \n",
    "plt.show()"
   ]
  },
  {
   "cell_type": "code",
   "execution_count": null,
   "metadata": {},
   "outputs": [],
   "source": []
  },
  {
   "cell_type": "code",
   "execution_count": 70,
   "metadata": {},
   "outputs": [
    {
     "name": "stdout",
     "output_type": "stream",
     "text": [
      "f 42069\n",
      "m 57690\n",
      "o 697\n"
     ]
    }
   ],
   "source": [
    "for i,k in dict(result.groupby('gender').size()).items():\n",
    "    print(i,k)"
   ]
  },
  {
   "cell_type": "code",
   "execution_count": 84,
   "metadata": {},
   "outputs": [],
   "source": [
    "male_numbers = 57690\n",
    "dict_male  = {}\n",
    "for i in result[result['gender'] == 'm']['predicted_category']:\n",
    "    if i in dict_male:\n",
    "        dict_male[i]+=1\n",
    "    else:\n",
    "        dict_male[i] = 1\n",
    "for i,k in dict_male.items():\n",
    "    dict_male[i] = k/male_numbers"
   ]
  },
  {
   "cell_type": "code",
   "execution_count": null,
   "metadata": {},
   "outputs": [],
   "source": []
  },
  {
   "cell_type": "code",
   "execution_count": 85,
   "metadata": {},
   "outputs": [],
   "source": [
    "female_numbers = 42069\n",
    "dict_female = {}\n",
    "for i in result[result['gender'] == 'f']['predicted_category']:\n",
    "    if i in dict_female:\n",
    "        dict_female[i]+=1\n",
    "    else:\n",
    "        dict_female[i] = 1\n",
    "for i,k in dict_female.items():\n",
    "    dict_female[i] = k/female_numbers"
   ]
  },
  {
   "cell_type": "code",
   "execution_count": 86,
   "metadata": {},
   "outputs": [
    {
     "name": "stdout",
     "output_type": "stream",
     "text": [
      "{'affection': 0.2903102790778298, 'leisure': 0.08363667880048535, 'achievement': 0.3670826833073323, 'enjoy_the_moment': 0.11646732535968106, 'bonding': 0.11189114231235917, 'nature': 0.016328653146125846, 'exercise': 0.014283237996186514}\n",
      "\n",
      "\n",
      "{'exercise': 0.008723763341177589, 'bonding': 0.09921795146069552, 'affection': 0.40868573058546676, 'enjoy_the_moment': 0.10275975183626898, 'achievement': 0.29820057524543014, 'nature': 0.021131949891844352, 'leisure': 0.06128027763911669}\n"
     ]
    }
   ],
   "source": [
    "print(dict_male,dict_female,sep='\\n\\n\\n')"
   ]
  },
  {
   "cell_type": "code",
   "execution_count": 98,
   "metadata": {},
   "outputs": [
    {
     "name": "stdout",
     "output_type": "stream",
     "text": [
      "[0.3670826833073323, 0.2903102790778298, 0.11189114231235917, 0.11646732535968106, 0.014283237996186514, 0.08363667880048535, 0.016328653146125846]\n",
      "\n",
      "[0.29820057524543014, 0.40868573058546676, 0.09921795146069552, 0.10275975183626898, 0.008723763341177589, 0.06128027763911669, 0.021131949891844352]\n",
      "\n",
      "['achievement', 'affection', 'bonding', 'enjoy_the_moment', 'exercise', 'leisure', 'nature']\n"
     ]
    }
   ],
   "source": [
    "import collections\n",
    "print(list(dict(collections.OrderedDict(sorted(dict_male.items()))).values()),list(dict(collections.OrderedDict(sorted(dict_female.items()))).values()),list(dict(collections.OrderedDict(sorted(dict_female.items()))).keys()),sep='\\n\\n')"
   ]
  },
  {
   "cell_type": "code",
   "execution_count": 145,
   "metadata": {},
   "outputs": [],
   "source": [
    "x = list(dict(collections.OrderedDict(sorted(dict_male.items()))).values())\n",
    "y = list(dict(collections.OrderedDict(sorted(dict_female.items()))).values())\n",
    "k = ['achieve', 'affection', 'bonding', 'enjoy', 'exercise', 'leisure', 'nature']"
   ]
  },
  {
   "cell_type": "code",
   "execution_count": 149,
   "metadata": {},
   "outputs": [
    {
     "name": "stdout",
     "output_type": "stream",
     "text": [
      "achieve\n"
     ]
    }
   ],
   "source": [
    "l = 0\n",
    "for i in x:\n",
    "    if i == max(x):\n",
    "        print(k[l])"
   ]
  },
  {
   "cell_type": "code",
   "execution_count": 150,
   "metadata": {},
   "outputs": [
    {
     "name": "stdout",
     "output_type": "stream",
     "text": [
      "affection\n"
     ]
    }
   ],
   "source": [
    "l = 0\n",
    "for i in y:\n",
    "    if i == max(y):\n",
    "        print(k[l])\n",
    "    l+=1"
   ]
  },
  {
   "cell_type": "code",
   "execution_count": 143,
   "metadata": {},
   "outputs": [
    {
     "data": {
      "text/plain": [
       "([<matplotlib.axis.XTick at 0x11859aac8>,\n",
       "  <matplotlib.axis.XTick at 0x11859a400>,\n",
       "  <matplotlib.axis.XTick at 0x11859a2e8>,\n",
       "  <matplotlib.axis.XTick at 0x116f699b0>,\n",
       "  <matplotlib.axis.XTick at 0x116f69940>,\n",
       "  <matplotlib.axis.XTick at 0x116f691d0>,\n",
       "  <matplotlib.axis.XTick at 0x1171a0c18>],\n",
       " <a list of 7 Text xticklabel objects>)"
      ]
     },
     "execution_count": 143,
     "metadata": {},
     "output_type": "execute_result"
    },
    {
     "data": {
      "image/png": "[encoded data removed]",
      "text/plain": [
       "<Figure size 432x288 with 1 Axes>"
      ]
     },
     "metadata": {},
     "output_type": "display_data"
    }
   ],
   "source": [
    "import matplotlib.pyplot as plt\n",
    "import numpy as np\n",
    "%matplotlib inline\n",
    "\n",
    "plt.title('FEMALE')\n",
    "z = np.arange(7)\n",
    "plt.xlabel('Category')\n",
    "plt.ylabel('Ratio')\n",
    "plt.bar(z, height= y) \n",
    "plt.xticks(z,k)"
   ]
  },
  {
   "cell_type": "code",
   "execution_count": 142,
   "metadata": {},
   "outputs": [
    {
     "data": {
      "text/plain": [
       "([<matplotlib.axis.XTick at 0x11823f2e8>,\n",
       "  <matplotlib.axis.XTick at 0x11823cbe0>,\n",
       "  <matplotlib.axis.XTick at 0x11823c940>,\n",
       "  <matplotlib.axis.XTick at 0x1183ffc50>,\n",
       "  <matplotlib.axis.XTick at 0x11840a198>,\n",
       "  <matplotlib.axis.XTick at 0x11840a630>,\n",
       "  <matplotlib.axis.XTick at 0x11840ab38>],\n",
       " <a list of 7 Text xticklabel objects>)"
      ]
     },
     "execution_count": 142,
     "metadata": {},
     "output_type": "execute_result"
    },
    {
     "data": {
      "image/png": "[encoded data removed]",
      "text/plain": [
       "<Figure size 432x288 with 1 Axes>"
      ]
     },
     "metadata": {},
     "output_type": "display_data"
    }
   ],
   "source": [
    "import matplotlib.pyplot as plt\n",
    "import numpy as np\n",
    "%matplotlib inline\n",
    "\n",
    "plt.title('MALE')\n",
    "z = np.arange(7)\n",
    "plt.xlabel('Category')\n",
    "plt.ylabel('Ratio')\n",
    "plt.bar(z, height= x) \n",
    "plt.xticks(z,k)\n",
    "\n"
   ]
  },
  {
   "cell_type": "code",
   "execution_count": 41,
   "metadata": {},
   "outputs": [
    {
     "data": {
      "text/html": [
       "<div>\n",
       "<style scoped>\n",
       "    .dataframe tbody tr th:only-of-type {\n",
       "        vertical-align: middle;\n",
       "    }\n",
       "\n",
       "    .dataframe tbody tr th {\n",
       "        vertical-align: top;\n",
       "    }\n",
       "\n",
       "    .dataframe thead th {\n",
       "        text-align: right;\n",
       "    }\n",
       "</style>\n",
       "<table border=\"1\" class=\"dataframe\">\n",
       "  <thead>\n",
       "    <tr style=\"text-align: right;\">\n",
       "      <th></th>\n",
       "      <th>hmid</th>\n",
       "      <th>reflection_period</th>\n",
       "      <th>original_hm</th>\n",
       "      <th>cleaned_hm</th>\n",
       "      <th>modified</th>\n",
       "      <th>num_sentence</th>\n",
       "      <th>ground_truth_category</th>\n",
       "      <th>predicted_category</th>\n",
       "      <th>age</th>\n",
       "      <th>country</th>\n",
       "      <th>gender</th>\n",
       "      <th>marital</th>\n",
       "      <th>parenthood</th>\n",
       "    </tr>\n",
       "    <tr>\n",
       "      <th>wid</th>\n",
       "      <th></th>\n",
       "      <th></th>\n",
       "      <th></th>\n",
       "      <th></th>\n",
       "      <th></th>\n",
       "      <th></th>\n",
       "      <th></th>\n",
       "      <th></th>\n",
       "      <th></th>\n",
       "      <th></th>\n",
       "      <th></th>\n",
       "      <th></th>\n",
       "      <th></th>\n",
       "    </tr>\n",
       "  </thead>\n",
       "  <tbody>\n",
       "    <tr>\n",
       "      <th>2053</th>\n",
       "      <td>27673</td>\n",
       "      <td>24h</td>\n",
       "      <td>I went on a successful date with someone I fel...</td>\n",
       "      <td>I went on a successful date with someone I fel...</td>\n",
       "      <td>True</td>\n",
       "      <td>1</td>\n",
       "      <td>NaN</td>\n",
       "      <td>affection</td>\n",
       "      <td>35</td>\n",
       "      <td>USA</td>\n",
       "      <td>m</td>\n",
       "      <td>single</td>\n",
       "      <td>n</td>\n",
       "    </tr>\n",
       "    <tr>\n",
       "      <th>2</th>\n",
       "      <td>27674</td>\n",
       "      <td>24h</td>\n",
       "      <td>I was happy when my son got 90% marks in his e...</td>\n",
       "      <td>I was happy when my son got 90% marks in his e...</td>\n",
       "      <td>True</td>\n",
       "      <td>1</td>\n",
       "      <td>NaN</td>\n",
       "      <td>affection</td>\n",
       "      <td>29.0</td>\n",
       "      <td>IND</td>\n",
       "      <td>m</td>\n",
       "      <td>married</td>\n",
       "      <td>y</td>\n",
       "    </tr>\n",
       "    <tr>\n",
       "      <th>1936</th>\n",
       "      <td>27675</td>\n",
       "      <td>24h</td>\n",
       "      <td>I went to the gym this morning and did yoga.</td>\n",
       "      <td>I went to the gym this morning and did yoga.</td>\n",
       "      <td>True</td>\n",
       "      <td>1</td>\n",
       "      <td>NaN</td>\n",
       "      <td>exercise</td>\n",
       "      <td>30</td>\n",
       "      <td>USA</td>\n",
       "      <td>f</td>\n",
       "      <td>married</td>\n",
       "      <td>y</td>\n",
       "    </tr>\n",
       "    <tr>\n",
       "      <th>206</th>\n",
       "      <td>27676</td>\n",
       "      <td>24h</td>\n",
       "      <td>We had a serious talk with some friends of our...</td>\n",
       "      <td>We had a serious talk with some friends of our...</td>\n",
       "      <td>True</td>\n",
       "      <td>2</td>\n",
       "      <td>bonding</td>\n",
       "      <td>bonding</td>\n",
       "      <td>28</td>\n",
       "      <td>DNK</td>\n",
       "      <td>f</td>\n",
       "      <td>married</td>\n",
       "      <td>n</td>\n",
       "    </tr>\n",
       "    <tr>\n",
       "      <th>6227</th>\n",
       "      <td>27677</td>\n",
       "      <td>24h</td>\n",
       "      <td>I went with grandchildren to butterfly display...</td>\n",
       "      <td>I went with grandchildren to butterfly display...</td>\n",
       "      <td>True</td>\n",
       "      <td>1</td>\n",
       "      <td>NaN</td>\n",
       "      <td>affection</td>\n",
       "      <td>55</td>\n",
       "      <td>USA</td>\n",
       "      <td>f</td>\n",
       "      <td>divorced</td>\n",
       "      <td>y</td>\n",
       "    </tr>\n",
       "  </tbody>\n",
       "</table>\n",
       "</div>"
      ],
      "text/plain": [
       "       hmid reflection_period  \\\n",
       "wid                             \n",
       "2053  27673               24h   \n",
       "2     27674               24h   \n",
       "1936  27675               24h   \n",
       "206   27676               24h   \n",
       "6227  27677               24h   \n",
       "\n",
       "                                            original_hm  \\\n",
       "wid                                                       \n",
       "2053  I went on a successful date with someone I fel...   \n",
       "2     I was happy when my son got 90% marks in his e...   \n",
       "1936       I went to the gym this morning and did yoga.   \n",
       "206   We had a serious talk with some friends of our...   \n",
       "6227  I went with grandchildren to butterfly display...   \n",
       "\n",
       "                                             cleaned_hm  modified  \\\n",
       "wid                                                                 \n",
       "2053  I went on a successful date with someone I fel...      True   \n",
       "2     I was happy when my son got 90% marks in his e...      True   \n",
       "1936       I went to the gym this morning and did yoga.      True   \n",
       "206   We had a serious talk with some friends of our...      True   \n",
       "6227  I went with grandchildren to butterfly display...      True   \n",
       "\n",
       "      num_sentence ground_truth_category predicted_category   age country  \\\n",
       "wid                                                                         \n",
       "2053             1                   NaN          affection    35     USA   \n",
       "2                1                   NaN          affection  29.0     IND   \n",
       "1936             1                   NaN           exercise    30     USA   \n",
       "206              2               bonding            bonding    28     DNK   \n",
       "6227             1                   NaN          affection    55     USA   \n",
       "\n",
       "     gender   marital parenthood  \n",
       "wid                               \n",
       "2053      m    single          n  \n",
       "2         m   married          y  \n",
       "1936      f   married          y  \n",
       "206       f   married          n  \n",
       "6227      f  divorced          y  "
      ]
     },
     "execution_count": 41,
     "metadata": {},
     "output_type": "execute_result"
    }
   ],
   "source": [
    "result.head()"
   ]
  },
  {
   "cell_type": "code",
   "execution_count": null,
   "metadata": {},
   "outputs": [],
   "source": [
    "sentence_list = []\n",
    "for i in Cleaned_hm['cleaned_hm']:\n",
    "    sentence_list.append(i)"
   ]
  },
  {
   "cell_type": "code",
   "execution_count": 51,
   "metadata": {},
   "outputs": [],
   "source": [
    "text=''\n",
    "for x in sentence_list:\n",
    "    text+=x\n"
   ]
  },
  {
   "cell_type": "code",
   "execution_count": null,
   "metadata": {},
   "outputs": [],
   "source": []
  },
  {
   "cell_type": "code",
   "execution_count": 54,
   "metadata": {},
   "outputs": [],
   "source": [
    "from nltk.tokenize import word_tokenize\n",
    "from nltk.tokenize import sent_tokenize\n",
    "from nltk.probability import FreqDist\n",
    "from nltk.corpus import stopwords\n",
    "from collections import OrderedDict\n",
    "import pprint"
   ]
  },
  {
   "cell_type": "code",
   "execution_count": null,
   "metadata": {},
   "outputs": [],
   "source": []
  },
  {
   "cell_type": "code",
   "execution_count": null,
   "metadata": {},
   "outputs": [],
   "source": [
    "from wordcloud import WordCloud, STOPWORDS\n",
    "import matplotlib.pyplot as plt\n",
    "%matplotlib inline\n",
    "k = ''\n",
    "for i in result2['text']:\n",
    "    k+=str(i)\n",
    "male_words_repetition = k.split()\n",
    "male_words = set(k.split())\n",
    "z = ''\n",
    "for i in male_words:\n",
    "    z +=str(i)\n",
    "\n",
    "\n",
    "wordcloud = WordCloud(stopwords=STOPWORDS,background_color='white',width=3000,height=3000).generate(z)#<-must be the string\n",
    "\n",
    "\n",
    "plt.imshow(wordcloud)\n",
    "plt.axis('off')\n",
    "plt.show()"
   ]
  },
  {
   "cell_type": "code",
   "execution_count": 33,
   "metadata": {},
   "outputs": [
    {
     "name": "stdout",
     "output_type": "stream",
     "text": [
      "<class 'pandas.core.frame.DataFrame'>\n",
      "RangeIndex: 10844 entries, 0 to 10843\n",
      "Data columns (total 6 columns):\n",
      "wid           10844 non-null int64\n",
      "age           10809 non-null object\n",
      "country       10771 non-null object\n",
      "gender        10812 non-null object\n",
      "marital       10787 non-null object\n",
      "parenthood    10813 non-null object\n",
      "dtypes: int64(1), object(5)\n",
      "memory usage: 508.4+ KB\n"
     ]
    }
   ],
   "source": [
    "Workers.info()"
   ]
  },
  {
   "cell_type": "code",
   "execution_count": 24,
   "metadata": {},
   "outputs": [
    {
     "data": {
      "text/plain": [
       "array(['USA', 'IND', 'VNM', 'THA', 'GBR', 'SRB', 'BGR', 'BRA', 'BGD',\n",
       "       'CAN', 'PRT', 'PHL', 'VEN', 'MKD', 'DOM', 'DNK', 'IDN', 'AUS',\n",
       "       'URY', 'JAM', 'EGY', 'DEU', 'KEN', 'MDA', 'IRL', 'NGA', 'ALB',\n",
       "       'MEX', 'TTO', 'KWT', 'RUS', 'LTU', 'PRI', 'SWE', 'PER', 'PAK',\n",
       "       'TUR', 'FRA', 'ARE', 'COL', 'GRC', 'ROU', 'ARM', 'MAC', 'SGP',\n",
       "       'UGA', 'POL', 'NIC', 'JPN', 'ESP', 'TWN', 'FIN', 'ITA', 'GHA',\n",
       "       'AUT', 'NPL', 'NZL', 'NLD', 'KOR', 'LKA', 'KNA', 'ZAF', 'BEL',\n",
       "       'ISL', 'DZA', 'AFG', 'GMB', nan, 'ASM', 'MYS', 'CZE', 'MLT', 'SVN',\n",
       "       'UMI', 'ARG', 'SAU', 'EST', 'ECU', 'ZMB', 'CHL', 'MAR', 'ISR',\n",
       "       'LVA', 'KAZ', 'NOR', 'CRI', 'BRB', 'HRV', 'ETH', 'TCA', 'BHS',\n",
       "       'VIR', 'GTM', 'IRQ', 'HKG', 'MUS', 'TUN', 'SUR', 'SLV', 'CYP',\n",
       "       'UKR'], dtype=object)"
      ]
     },
     "execution_count": 24,
     "metadata": {},
     "output_type": "execute_result"
    }
   ],
   "source": [
    "Workers['country'].unique()"
   ]
  },
  {
   "cell_type": "code",
   "execution_count": null,
   "metadata": {},
   "outputs": [],
   "source": []
  }
 ],
 "metadata": {
  "kernelspec": {
   "display_name": "Python 3",
   "language": "python",
   "name": "python3"
  },
  "language_info": {
   "codemirror_mode": {
    "name": "ipython",
    "version": 3
   },
   "file_extension": ".py",
   "mimetype": "text/x-python",
   "name": "python",
   "nbconvert_exporter": "python",
   "pygments_lexer": "ipython3",
   "version": "3.6.5"
  }
 },
 "nbformat": 4,
 "nbformat_minor": 2
}
